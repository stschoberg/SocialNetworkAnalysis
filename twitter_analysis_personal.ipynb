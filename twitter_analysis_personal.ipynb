{
 "cells": [
  {
   "cell_type": "code",
   "execution_count": 41,
   "metadata": {},
   "outputs": [],
   "source": [
    "import tweepy\n",
    "import networkx as nx\n",
    "import pandas as pd\n",
    "import operator\n",
    "import matplotlib.pyplot as plt"
   ]
  },
  {
   "cell_type": "markdown",
   "metadata": {},
   "source": [
    "# Load data and authenticate"
   ]
  },
  {
   "cell_type": "code",
   "execution_count": 58,
   "metadata": {},
   "outputs": [],
   "source": [
    "consumer_key='gKoU0sJYucJWfyKhHV94gAvlL'\n",
    "consumer_secret='iYwyu3EYglYJVSGuKb6bJu49RoCZON9ruuoa6N5FldYlcxtHnH'\n",
    "access_token='1636250282-iZwdao53UDL4GEExjdyNGOWLug6wPUbc9hMNotO'\n",
    "access_token_secret='IswJJm5emSMvSvG6nyYgaRj8nFCJDxSO6emOzEC9LFrQc'\n",
    "\n",
    "auth = tweepy.OAuthHandler(consumer_key, consumer_secret)\n",
    "auth.set_access_token(access_token, access_token_secret)\n",
    "\n",
    "api = tweepy.API(auth, wait_on_rate_limit=True, wait_on_rate_limit_notify=True)\n",
    "g=create_graph()"
   ]
  },
  {
   "cell_type": "code",
   "execution_count": 33,
   "metadata": {},
   "outputs": [],
   "source": []
  },
  {
   "cell_type": "code",
   "execution_count": 34,
   "metadata": {},
   "outputs": [],
   "source": [
    "core = trim_degrees(g)\n",
    "core3 = trim_degrees(g, 3)\n",
    "core10 = trim_degrees(g, 10)"
   ]
  },
  {
   "cell_type": "markdown",
   "metadata": {},
   "source": [
    "# Centrality Measures\n",
    "\n",
    "### Degree Centrality\n",
    "- Whoever has the most edges going in/out of a node"
   ]
  },
  {
   "cell_type": "code",
   "execution_count": 39,
   "metadata": {},
   "outputs": [
    {
     "data": {
      "text/plain": [
       "[('767487035942854656', 2944),\n",
       " ('1033345424', 3029),\n",
       " ('716096945232609281', 3836),\n",
       " ('825459914927644672', 3844),\n",
       " ('21558596', 5002),\n",
       " ('131171690', 5002),\n",
       " ('1087935230', 5003),\n",
       " ('736905775', 5005),\n",
       " ('3365345831', 5006),\n",
       " ('66485304', 5006)]"
      ]
     },
     "execution_count": 39,
     "metadata": {},
     "output_type": "execute_result"
    }
   ],
   "source": [
    "deg = dict(nx.degree(g))\n",
    "ds=sorted_map(deg)\n",
    "ds[-10:]"
   ]
  },
  {
   "cell_type": "markdown",
   "metadata": {},
   "source": [
    "### Closeness Centrality\n",
    "- Measure of closeness to all other nodes\n",
    "- Indicates ability to move information across the network quickly\n",
    "- For every node:\n",
    " - Compute avg. distance to all other nodes\n",
    " - Divide by max distance\n",
    " - Closeness = 1/avg distance"
   ]
  },
  {
   "cell_type": "code",
   "execution_count": 69,
   "metadata": {},
   "outputs": [],
   "source": [
    "c=nx.closeness_centrality(core10)\n",
    "cs=sorted_map(c)"
   ]
  },
  {
   "cell_type": "code",
   "execution_count": 73,
   "metadata": {},
   "outputs": [
    {
     "data": {
      "text/plain": [
       "(array([ 1.,  0.,  0.,  0.,  0.,  0.,  0., 41.,  7.,  2.,  1.,  1.,  1.,\n",
       "         2.,  3.,  0.,  0.,  0.,  0.,  0.,  0.,  2.,  4.,  2.,  2.,  3.,\n",
       "         7.,  4.,  4., 11., 10.,  9., 17., 19., 20., 20., 37., 39., 36.,\n",
       "        46., 59., 59., 65., 80., 76., 80., 79., 64., 60., 59., 42., 27.,\n",
       "        15.,  7., 10., 10.,  8., 11.,  9., 11.,  6.,  9.,  6.,  5.,  5.,\n",
       "         5.,  8.,  4.,  8.,  5.,  6.,  1.,  3.,  4.,  3.,  5.,  4.,  1.,\n",
       "         3.,  2.,  2.,  3.,  3.,  0.,  0.,  4.,  0.,  0.,  0.,  0.,  0.,\n",
       "         1.,  1.,  1.,  1.,  1.,  0.,  0.,  0.,  2.]),\n",
       " array([0.33715776, 0.34038312, 0.34360848, 0.34683384, 0.3500592 ,\n",
       "        0.35328456, 0.35650992, 0.35973529, 0.36296065, 0.36618601,\n",
       "        0.36941137, 0.37263673, 0.37586209, 0.37908745, 0.38231281,\n",
       "        0.38553818, 0.38876354, 0.3919889 , 0.39521426, 0.39843962,\n",
       "        0.40166498, 0.40489034, 0.4081157 , 0.41134107, 0.41456643,\n",
       "        0.41779179, 0.42101715, 0.42424251, 0.42746787, 0.43069323,\n",
       "        0.43391859, 0.43714395, 0.44036932, 0.44359468, 0.44682004,\n",
       "        0.4500454 , 0.45327076, 0.45649612, 0.45972148, 0.46294684,\n",
       "        0.46617221, 0.46939757, 0.47262293, 0.47584829, 0.47907365,\n",
       "        0.48229901, 0.48552437, 0.48874973, 0.4919751 , 0.49520046,\n",
       "        0.49842582, 0.50165118, 0.50487654, 0.5081019 , 0.51132726,\n",
       "        0.51455262, 0.51777798, 0.52100335, 0.52422871, 0.52745407,\n",
       "        0.53067943, 0.53390479, 0.53713015, 0.54035551, 0.54358087,\n",
       "        0.54680624, 0.5500316 , 0.55325696, 0.55648232, 0.55970768,\n",
       "        0.56293304, 0.5661584 , 0.56938376, 0.57260913, 0.57583449,\n",
       "        0.57905985, 0.58228521, 0.58551057, 0.58873593, 0.59196129,\n",
       "        0.59518665, 0.59841201, 0.60163738, 0.60486274, 0.6080881 ,\n",
       "        0.61131346, 0.61453882, 0.61776418, 0.62098954, 0.6242149 ,\n",
       "        0.62744027, 0.63066563, 0.63389099, 0.63711635, 0.64034171,\n",
       "        0.64356707, 0.64679243, 0.65001779, 0.65324316, 0.65646852,\n",
       "        0.65969388]),\n",
       " <a list of 100 Patch objects>)"
      ]
     },
     "execution_count": 73,
     "metadata": {},
     "output_type": "execute_result"
    },
    {
     "data": {
      "image/png": "[encoded data removed]",
      "text/plain": [
       "<Figure size 432x288 with 1 Axes>"
      ]
     },
     "metadata": {
      "needs_background": "light"
     },
     "output_type": "display_data"
    }
   ],
   "source": [
    "plt.hist(dict(cs).values(), 100)"
   ]
  },
  {
   "cell_type": "code",
   "execution_count": 71,
   "metadata": {},
   "outputs": [
    {
     "name": "stdout",
     "output_type": "stream",
     "text": [
      "['amyy_jarvis', 'happy_HALidays', 'ayyyemytesch_', 'carrollvarsity', 'metcalf__sarah', '_ryanwalsh_', 'carolineefrock', 'paige_sedlar', 'oliviaa_whitee', 'ryan_mcmanus9']\n"
     ]
    }
   ],
   "source": [
    "print(get_user_list(dict(cs[-10:]).keys()))"
   ]
  },
  {
   "cell_type": "markdown",
   "metadata": {},
   "source": [
    "### Betweeness Centrality\n",
    "- Individual may have power if they preside over communication bottleneck\n",
    "- Identify boundary spanners\n",
    "- For every node:\n",
    " - Compute shortest path to every other node (dijsktras)\n",
    " - Count the number of shortest paths the node is on\n",
    " - Normalize results to 0-1"
   ]
  },
  {
   "cell_type": "code",
   "execution_count": 75,
   "metadata": {},
   "outputs": [],
   "source": [
    "b=nx.betweenness_centrality(core10)\n",
    "bs=sorted_map(b)"
   ]
  },
  {
   "cell_type": "code",
   "execution_count": 76,
   "metadata": {},
   "outputs": [
    {
     "name": "stdout",
     "output_type": "stream",
     "text": [
      "['sydpop88', 'metcalf__sarah', 'carolineefrock', '_ryanwalsh_', 'paige_sedlar', 'ryan_mcmanus9', 'meber5', 'carrollvarsity', 'stschoberg', 'oliviaa_whitee']\n"
     ]
    }
   ],
   "source": [
    "print(get_user_list(dict(bs[-10:]).keys()))"
   ]
  },
  {
   "cell_type": "markdown",
   "metadata": {},
   "source": [
    "## Summary of Centrality Measures\n",
    "### See table pg. 54 for summary"
   ]
  },
  {
   "cell_type": "code",
   "execution_count": 83,
   "metadata": {},
   "outputs": [
    {
     "data": {
      "text/html": [
       "<div>\n",
       "<style scoped>\n",
       "    .dataframe tbody tr th:only-of-type {\n",
       "        vertical-align: middle;\n",
       "    }\n",
       "\n",
       "    .dataframe tbody tr th {\n",
       "        vertical-align: top;\n",
       "    }\n",
       "\n",
       "    .dataframe thead th {\n",
       "        text-align: right;\n",
       "    }\n",
       "</style>\n",
       "<table border=\"1\" class=\"dataframe\">\n",
       "  <thead>\n",
       "    <tr style=\"text-align: right;\">\n",
       "      <th></th>\n",
       "      <th>Name</th>\n",
       "      <th>Degree</th>\n",
       "      <th>Closeness</th>\n",
       "      <th>Betweeness</th>\n",
       "    </tr>\n",
       "  </thead>\n",
       "  <tbody>\n",
       "    <tr>\n",
       "      <th>0</th>\n",
       "      <td>ryan_mcmanus9</td>\n",
       "      <td>862</td>\n",
       "      <td>0.659694</td>\n",
       "      <td>3.777231e-02</td>\n",
       "    </tr>\n",
       "    <tr>\n",
       "      <th>1</th>\n",
       "      <td>Tiaan191</td>\n",
       "      <td>5002</td>\n",
       "      <td>0.360871</td>\n",
       "      <td>0.000000e+00</td>\n",
       "    </tr>\n",
       "    <tr>\n",
       "      <th>2</th>\n",
       "      <td>_ryanwalsh_</td>\n",
       "      <td>849</td>\n",
       "      <td>0.638203</td>\n",
       "      <td>2.848736e-02</td>\n",
       "    </tr>\n",
       "    <tr>\n",
       "      <th>3</th>\n",
       "      <td>sydpop88</td>\n",
       "      <td>692</td>\n",
       "      <td>0.604488</td>\n",
       "      <td>2.259455e-02</td>\n",
       "    </tr>\n",
       "    <tr>\n",
       "      <th>4</th>\n",
       "      <td>not1ofyourfans</td>\n",
       "      <td>3029</td>\n",
       "      <td>0.361375</td>\n",
       "      <td>8.707127e-07</td>\n",
       "    </tr>\n",
       "    <tr>\n",
       "      <th>5</th>\n",
       "      <td>metcalf__sarah</td>\n",
       "      <td>856</td>\n",
       "      <td>0.634757</td>\n",
       "      <td>2.643273e-02</td>\n",
       "    </tr>\n",
       "    <tr>\n",
       "      <th>6</th>\n",
       "      <td>ayyyemytesch_</td>\n",
       "      <td>758</td>\n",
       "      <td>0.614252</td>\n",
       "      <td>2.126995e-02</td>\n",
       "    </tr>\n",
       "    <tr>\n",
       "      <th>7</th>\n",
       "      <td>DudeInABearSuit</td>\n",
       "      <td>5005</td>\n",
       "      <td>0.445095</td>\n",
       "      <td>8.287232e-05</td>\n",
       "    </tr>\n",
       "    <tr>\n",
       "      <th>8</th>\n",
       "      <td>happy_HALidays</td>\n",
       "      <td>1000</td>\n",
       "      <td>0.614252</td>\n",
       "      <td>1.938919e-02</td>\n",
       "    </tr>\n",
       "    <tr>\n",
       "      <th>9</th>\n",
       "      <td>Abovo42</td>\n",
       "      <td>5006</td>\n",
       "      <td>0.361173</td>\n",
       "      <td>5.986031e-07</td>\n",
       "    </tr>\n",
       "    <tr>\n",
       "      <th>10</th>\n",
       "      <td>paige_sedlar</td>\n",
       "      <td>767</td>\n",
       "      <td>0.645532</td>\n",
       "      <td>3.085908e-02</td>\n",
       "    </tr>\n",
       "    <tr>\n",
       "      <th>11</th>\n",
       "      <td>meber5</td>\n",
       "      <td>682</td>\n",
       "      <td>0.559983</td>\n",
       "      <td>4.173091e-02</td>\n",
       "    </tr>\n",
       "    <tr>\n",
       "      <th>12</th>\n",
       "      <td>CoachingBible</td>\n",
       "      <td>3844</td>\n",
       "      <td>0.360770</td>\n",
       "      <td>0.000000e+00</td>\n",
       "    </tr>\n",
       "    <tr>\n",
       "      <th>13</th>\n",
       "      <td>LifeboatHQ</td>\n",
       "      <td>5002</td>\n",
       "      <td>0.360770</td>\n",
       "      <td>0.000000e+00</td>\n",
       "    </tr>\n",
       "    <tr>\n",
       "      <th>14</th>\n",
       "      <td>oliviaa_whitee</td>\n",
       "      <td>1292</td>\n",
       "      <td>0.657346</td>\n",
       "      <td>4.468789e-02</td>\n",
       "    </tr>\n",
       "    <tr>\n",
       "      <th>15</th>\n",
       "      <td>stschoberg</td>\n",
       "      <td>452</td>\n",
       "      <td>0.563644</td>\n",
       "      <td>4.437077e-02</td>\n",
       "    </tr>\n",
       "    <tr>\n",
       "      <th>16</th>\n",
       "      <td>brianbowman73</td>\n",
       "      <td>5003</td>\n",
       "      <td>0.360871</td>\n",
       "      <td>0.000000e+00</td>\n",
       "    </tr>\n",
       "    <tr>\n",
       "      <th>17</th>\n",
       "      <td>tequilacowgirl</td>\n",
       "      <td>2944</td>\n",
       "      <td>0.361173</td>\n",
       "      <td>5.786497e-07</td>\n",
       "    </tr>\n",
       "    <tr>\n",
       "      <th>18</th>\n",
       "      <td>22Overheard</td>\n",
       "      <td>3836</td>\n",
       "      <td>0.360770</td>\n",
       "      <td>0.000000e+00</td>\n",
       "    </tr>\n",
       "    <tr>\n",
       "      <th>19</th>\n",
       "      <td>carrollvarsity</td>\n",
       "      <td>5006</td>\n",
       "      <td>0.632274</td>\n",
       "      <td>4.322127e-02</td>\n",
       "    </tr>\n",
       "    <tr>\n",
       "      <th>20</th>\n",
       "      <td>amyy_jarvis</td>\n",
       "      <td>609</td>\n",
       "      <td>0.611348</td>\n",
       "      <td>1.674291e-02</td>\n",
       "    </tr>\n",
       "    <tr>\n",
       "      <th>21</th>\n",
       "      <td>carolineefrock</td>\n",
       "      <td>733</td>\n",
       "      <td>0.640416</td>\n",
       "      <td>2.657607e-02</td>\n",
       "    </tr>\n",
       "  </tbody>\n",
       "</table>\n",
       "</div>"
      ],
      "text/plain": [
       "               Name  Degree  Closeness    Betweeness\n",
       "0     ryan_mcmanus9     862   0.659694  3.777231e-02\n",
       "1          Tiaan191    5002   0.360871  0.000000e+00\n",
       "2       _ryanwalsh_     849   0.638203  2.848736e-02\n",
       "3          sydpop88     692   0.604488  2.259455e-02\n",
       "4    not1ofyourfans    3029   0.361375  8.707127e-07\n",
       "5    metcalf__sarah     856   0.634757  2.643273e-02\n",
       "6     ayyyemytesch_     758   0.614252  2.126995e-02\n",
       "7   DudeInABearSuit    5005   0.445095  8.287232e-05\n",
       "8    happy_HALidays    1000   0.614252  1.938919e-02\n",
       "9           Abovo42    5006   0.361173  5.986031e-07\n",
       "10     paige_sedlar     767   0.645532  3.085908e-02\n",
       "11           meber5     682   0.559983  4.173091e-02\n",
       "12    CoachingBible    3844   0.360770  0.000000e+00\n",
       "13       LifeboatHQ    5002   0.360770  0.000000e+00\n",
       "14   oliviaa_whitee    1292   0.657346  4.468789e-02\n",
       "15       stschoberg     452   0.563644  4.437077e-02\n",
       "16    brianbowman73    5003   0.360871  0.000000e+00\n",
       "17   tequilacowgirl    2944   0.361173  5.786497e-07\n",
       "18      22Overheard    3836   0.360770  0.000000e+00\n",
       "19   carrollvarsity    5006   0.632274  4.322127e-02\n",
       "20      amyy_jarvis     609   0.611348  1.674291e-02\n",
       "21   carolineefrock     733   0.640416  2.657607e-02"
      ]
     },
     "execution_count": 83,
     "metadata": {},
     "output_type": "execute_result"
    }
   ],
   "source": [
    "names1=(dict(ds[-10:]).keys())\n",
    "names2=(dict(bs[-10:]).keys())\n",
    "names3=(dict(cs[-10:]).keys())\n",
    "\n",
    "names=(list(set(names1) | set(names2) | set(names3)))\n",
    "table=[[get_user_by_id(name), deg[name], c[name], b[name]] for name in names]\n",
    "pd.DataFrame(table, columns=[\"Name\", \"Degree\", \"Closeness\", \"Betweeness\"])"
   ]
  },
  {
   "cell_type": "markdown",
   "metadata": {},
   "source": [
    "### Eigenvector Centrality\n",
    "- Measure of centrality by being connected to others who are central\n"
   ]
  },
  {
   "cell_type": "markdown",
   "metadata": {},
   "source": [
    "# Cliques, Cluster, and Components"
   ]
  },
  {
   "cell_type": "code",
   "execution_count": 91,
   "metadata": {},
   "outputs": [
    {
     "data": {
      "text/plain": [
       "1"
      ]
     },
     "execution_count": 91,
     "metadata": {},
     "output_type": "execute_result"
    }
   ],
   "source": [
    "len(list(nx.connected_component_subgraphs(g)))"
   ]
  },
  {
   "cell_type": "code",
   "execution_count": 61,
   "metadata": {},
   "outputs": [],
   "source": [
    "def get_user_list(lst):\n",
    "    res=[]\n",
    "    for p in lst:\n",
    "        res.append(get_user_by_id((p)))\n",
    "    return res "
   ]
  },
  {
   "cell_type": "code",
   "execution_count": 32,
   "metadata": {},
   "outputs": [],
   "source": [
    "def create_graph():\n",
    "    g=nx.Graph()\n",
    "    g=nx.read_pajek('immediate_friends_friends.net')\n",
    "    return g\n",
    "    "
   ]
  },
  {
   "cell_type": "code",
   "execution_count": 84,
   "metadata": {},
   "outputs": [],
   "source": [
    "def sorted_map(map):\n",
    "    ms = (sorted(map.items(), key=operator.itemgetter(1)))\n",
    "    return (ms)"
   ]
  },
  {
   "cell_type": "code",
   "execution_count": 12,
   "metadata": {},
   "outputs": [],
   "source": [
    "def trim_degrees(g, d=1):\n",
    "    g2 = g.copy()\n",
    "    deg = nx.degree(g2)\n",
    "    \n",
    "    for n in g.nodes():\n",
    "        if deg[n] <= d: g2.remove_node(n)\n",
    "    return g2"
   ]
  },
  {
   "cell_type": "code",
   "execution_count": 13,
   "metadata": {},
   "outputs": [],
   "source": [
    "def get_following_list(user_name):\n",
    "    return api.friends_ids(user_name)"
   ]
  },
  {
   "cell_type": "code",
   "execution_count": 14,
   "metadata": {},
   "outputs": [],
   "source": [
    "def get_follower_list(user_name):\n",
    "    try:\n",
    "        return api.followers_ids(user_name)\n",
    "    except tweepy.TweepError:\n",
    "        print('Cant get data for '+str(get_user_by_id(user_name).name))\n",
    "        return []"
   ]
  },
  {
   "cell_type": "code",
   "execution_count": 15,
   "metadata": {},
   "outputs": [],
   "source": [
    "def get_user_by_id(key):\n",
    "    return api.get_user(key).screen_name"
   ]
  },
  {
   "cell_type": "code",
   "execution_count": 16,
   "metadata": {},
   "outputs": [],
   "source": [
    "def get_id_by_screen_name(n):\n",
    "    return api.get_user(n).id"
   ]
  },
  {
   "cell_type": "code",
   "execution_count": 17,
   "metadata": {},
   "outputs": [],
   "source": [
    "def add_friends_to_graph(user, friends_list):\n",
    "    for friend in friends_list:\n",
    "        g.add_edge(user, friends_list)"
   ]
  },
  {
   "cell_type": "code",
   "execution_count": 18,
   "metadata": {},
   "outputs": [],
   "source": [
    "def add_followers_to_graph(user, friends_list):\n",
    "    for friend in friends_list:\n",
    "        g.add_edge(friends_list, user)"
   ]
  },
  {
   "cell_type": "code",
   "execution_count": null,
   "metadata": {},
   "outputs": [],
   "source": [
    "def update_following_dict(user, d=following_dict):\n",
    "    d[user] = get_following_list(user)\n",
    "    return d   "
   ]
  },
  {
   "cell_type": "code",
   "execution_count": null,
   "metadata": {},
   "outputs": [],
   "source": [
    "def update_follower_dict(user, d=follower_dict):\n",
    "    d[user] = get_follower_list(user)\n",
    "    return d"
   ]
  },
  {
   "cell_type": "code",
   "execution_count": 37,
   "metadata": {},
   "outputs": [],
   "source": [
    "def write_graph(path, graph):\n",
    "    nx.write_pajek(graph, path)"
   ]
  },
  {
   "cell_type": "code",
   "execution_count": 11,
   "metadata": {},
   "outputs": [
    {
     "ename": "NameError",
     "evalue": "name 'follower_dict' is not defined",
     "output_type": "error",
     "traceback": [
      "\u001b[0;31m---------------------------------------------------------------------------\u001b[0m",
      "\u001b[0;31mNameError\u001b[0m                                 Traceback (most recent call last)",
      "\u001b[0;32m<ipython-input-11-9f536b894c68>\u001b[0m in \u001b[0;36m<module>\u001b[0;34m\u001b[0m\n\u001b[1;32m      1\u001b[0m \u001b[0mcount\u001b[0m\u001b[0;34m=\u001b[0m\u001b[0;36m0\u001b[0m\u001b[0;34m\u001b[0m\u001b[0;34m\u001b[0m\u001b[0m\n\u001b[0;32m----> 2\u001b[0;31m \u001b[0;32mfor\u001b[0m \u001b[0mk\u001b[0m\u001b[0;34m,\u001b[0m\u001b[0mv\u001b[0m \u001b[0;32min\u001b[0m \u001b[0mfollower_dict\u001b[0m\u001b[0;34m.\u001b[0m\u001b[0mitems\u001b[0m\u001b[0;34m(\u001b[0m\u001b[0;34m)\u001b[0m\u001b[0;34m:\u001b[0m\u001b[0;34m\u001b[0m\u001b[0;34m\u001b[0m\u001b[0m\n\u001b[0m\u001b[1;32m      3\u001b[0m     \u001b[0;32mfor\u001b[0m \u001b[0mfollower\u001b[0m \u001b[0;32min\u001b[0m \u001b[0mv\u001b[0m\u001b[0;34m:\u001b[0m\u001b[0;34m\u001b[0m\u001b[0;34m\u001b[0m\u001b[0m\n\u001b[1;32m      4\u001b[0m         \u001b[0mcount\u001b[0m\u001b[0;34m+=\u001b[0m\u001b[0;36m1\u001b[0m\u001b[0;34m\u001b[0m\u001b[0;34m\u001b[0m\u001b[0m\n\u001b[1;32m      5\u001b[0m         \u001b[0mg\u001b[0m\u001b[0;34m.\u001b[0m\u001b[0madd_edge\u001b[0m\u001b[0;34m(\u001b[0m\u001b[0mfollower\u001b[0m\u001b[0;34m,\u001b[0m \u001b[0mk\u001b[0m\u001b[0;34m,\u001b[0m \u001b[0mt\u001b[0m\u001b[0;34m=\u001b[0m\u001b[0;34m'follows'\u001b[0m\u001b[0;34m)\u001b[0m\u001b[0;34m\u001b[0m\u001b[0;34m\u001b[0m\u001b[0m\n",
      "\u001b[0;31mNameError\u001b[0m: name 'follower_dict' is not defined"
     ]
    }
   ],
   "source": [
    "count=0\n",
    "for k,v in follower_dict.items():\n",
    "    for follower in v:\n",
    "        count+=1\n",
    "        g.add_edge(follower, k, t='follows')\n",
    "print(count)"
   ]
  },
  {
   "cell_type": "code",
   "execution_count": null,
   "metadata": {},
   "outputs": [],
   "source": []
  }
 ],
 "metadata": {
  "kernelspec": {
   "display_name": "Python 3",
   "language": "python",
   "name": "python3"
  },
  "language_info": {
   "codemirror_mode": {
    "name": "ipython",
    "version": 3
   },
   "file_extension": ".py",
   "mimetype": "text/x-python",
   "name": "python",
   "nbconvert_exporter": "python",
   "pygments_lexer": "ipython3",
   "version": "3.7.3"
  }
 },
 "nbformat": 4,
 "nbformat_minor": 2
}
