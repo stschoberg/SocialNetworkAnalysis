{
 "cells": [
  {
   "cell_type": "code",
   "execution_count": null,
   "metadata": {},
   "outputs": [],
   "source": [
    "import tweepy\n",
    "import networkx as nx\n",
    "import pandas as pd\n",
    "import operator"
   ]
  },
  {
   "cell_type": "code",
   "execution_count": null,
   "metadata": {},
   "outputs": [],
   "source": [
    "\n",
    "\n",
    "auth = tweepy.OAuthHandler(consumer_key, consumer_secret)\n",
    "auth.set_access_token(access_token, access_token_secret)\n",
    "\n",
    "api = tweepy.API(auth, wait_on_rate_limit=True, wait_on_rate_limit_notify=True)\n"
   ]
  },
  {
   "cell_type": "code",
   "execution_count": null,
   "metadata": {},
   "outputs": [],
   "source": [
    "g=nx.Graph()"
   ]
  },
  {
   "cell_type": "code",
   "execution_count": null,
   "metadata": {},
   "outputs": [],
   "source": [
    "follower_dict={}\n",
    "following_dict={}"
   ]
  },
  {
   "cell_type": "code",
   "execution_count": null,
   "metadata": {
    "scrolled": true
   },
   "outputs": [],
   "source": [
    "\n",
    "\n",
    "my_immediate_followers=get_follower_list('1636250282')\n",
    "follower_dict['1636250282']=my_immediate_followers\n",
    "\n",
    "for follower in my_immediate_followers:\n",
    "    follower_dict[follower]=get_follower_list(follower)\n",
    "\n",
    "\n",
    "# for user in to_process:\n",
    "#     if user not in follower_dict:\n",
    "#         followers=get_follower_list(user)\n",
    "#         follower_dict[user]=followers\n",
    "#         to_process= to_process + followers\n",
    "#         to_process.pop(0)\n"
   ]
  },
  {
   "cell_type": "code",
   "execution_count": null,
   "metadata": {},
   "outputs": [],
   "source": [
    "len(follower_dict[66485304])"
   ]
  },
  {
   "cell_type": "code",
   "execution_count": null,
   "metadata": {},
   "outputs": [],
   "source": [
    "get_id_by_screen_name('tequilacowgirl')"
   ]
  },
  {
   "cell_type": "code",
   "execution_count": null,
   "metadata": {},
   "outputs": [],
   "source": [
    "deg = dict(nx.degree(g))\n",
    "deg_sorted=sorted_map(deg)\n",
    "\n",
    "for k in deg_sorted[-10:]:\n",
    "    print(str(get_user_by_id(str(k[0])) +' , ' +str(k[1])))"
   ]
  },
  {
   "cell_type": "code",
   "execution_count": null,
   "metadata": {},
   "outputs": [],
   "source": []
  },
  {
   "cell_type": "code",
   "execution_count": null,
   "metadata": {},
   "outputs": [],
   "source": [
    "def sorted_map(map):\n",
    "    ms = (sorted(map.items(), key=operator.itemgetter(1)))\n",
    "    return ms"
   ]
  },
  {
   "cell_type": "code",
   "execution_count": null,
   "metadata": {},
   "outputs": [],
   "source": [
    "count=0\n",
    "for k,v in follower_dict.items():\n",
    "    for follower in v:\n",
    "        count+=1\n",
    "        g.add_edge(follower, k, t='follows')\n",
    "print(count)"
   ]
  },
  {
   "cell_type": "code",
   "execution_count": null,
   "metadata": {},
   "outputs": [],
   "source": [
    "def trim_degrees(g, d=1):\n",
    "    g2 = g.copy()\n",
    "    deg = nx.degree(g2)\n",
    "    \n",
    "    for n in g.nodes():\n",
    "        if deg[n] <= d: g2.remove_node(n)\n",
    "    return g2"
   ]
  },
  {
   "cell_type": "code",
   "execution_count": null,
   "metadata": {},
   "outputs": [],
   "source": [
    "def get_following_list(user_name):\n",
    "    return api.friends_ids(user_name)"
   ]
  },
  {
   "cell_type": "code",
   "execution_count": null,
   "metadata": {},
   "outputs": [],
   "source": [
    "def get_follower_list(user_name):\n",
    "    try:\n",
    "        return api.followers_ids(user_name)\n",
    "    except tweepy.TweepError:\n",
    "        print('Cant get data for '+str(get_user_by_id(user_name).name))\n",
    "        return []"
   ]
  },
  {
   "cell_type": "code",
   "execution_count": null,
   "metadata": {},
   "outputs": [],
   "source": [
    "def get_user_by_id(key):\n",
    "    return api.get_user(key).screen_name"
   ]
  },
  {
   "cell_type": "code",
   "execution_count": null,
   "metadata": {},
   "outputs": [],
   "source": [
    "def get_id_by_screen_name(n):\n",
    "    return api.get_user(n).id"
   ]
  },
  {
   "cell_type": "code",
   "execution_count": null,
   "metadata": {},
   "outputs": [],
   "source": [
    "def add_friends_to_graph(user, friends_list):\n",
    "    for friend in friends_list:\n",
    "        g.add_edge(user, friends_list)"
   ]
  },
  {
   "cell_type": "code",
   "execution_count": null,
   "metadata": {},
   "outputs": [],
   "source": [
    "def add_followers_to_graph(user, friends_list):\n",
    "    for friend in friends_list:\n",
    "        g.add_edge(friends_list, user)"
   ]
  },
  {
   "cell_type": "code",
   "execution_count": null,
   "metadata": {},
   "outputs": [],
   "source": [
    "def update_following_dict(user, d=following_dict):\n",
    "    d[user] = get_following_list(user)\n",
    "    return d\n",
    "    "
   ]
  },
  {
   "cell_type": "code",
   "execution_count": null,
   "metadata": {},
   "outputs": [],
   "source": [
    "def update_follower_dict(user, d=follower_dict):\n",
    "    d[user] = get_follower_list(user)\n",
    "    return d"
   ]
  },
  {
   "cell_type": "code",
   "execution_count": null,
   "metadata": {},
   "outputs": [],
   "source": [
    "core = trim_degrees(g)\n",
    "core3 = trim_degrees(g, 3)\n",
    "core10 = trim_degrees(g, 10)"
   ]
  },
  {
   "cell_type": "code",
   "execution_count": null,
   "metadata": {},
   "outputs": [],
   "source": [
    "nx.write_pajek(g, 'immediate_friends_friends.net')"
   ]
  },
  {
   "cell_type": "code",
   "execution_count": null,
   "metadata": {},
   "outputs": [],
   "source": []
  }
 ],
 "metadata": {
  "kernelspec": {
   "display_name": "Python 3",
   "language": "python",
   "name": "python3"
  },
  "language_info": {
   "codemirror_mode": {
    "name": "ipython",
    "version": 3
   },
   "file_extension": ".py",
   "mimetype": "text/x-python",
   "name": "python",
   "nbconvert_exporter": "python",
   "pygments_lexer": "ipython3",
   "version": "3.7.3"
  }
 },
 "nbformat": 4,
 "nbformat_minor": 2
}
